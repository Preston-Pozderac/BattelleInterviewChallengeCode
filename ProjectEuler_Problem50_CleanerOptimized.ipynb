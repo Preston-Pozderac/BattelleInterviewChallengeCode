{
 "cells": [
  {
   "cell_type": "code",
   "execution_count": 1,
   "id": "ba72629a",
   "metadata": {},
   "outputs": [],
   "source": [
    "import pandas as pd\n",
    "import numpy as np\n",
    "import math as m\n",
    "import time as t"
   ]
  },
  {
   "cell_type": "code",
   "execution_count": 38,
   "id": "3cd50082",
   "metadata": {},
   "outputs": [],
   "source": [
    "# Function to see if a Number is Prime\n",
    "# Check if number is divisible by 2, 3, 6n+1 or 6n-1\n",
    "# This checks all possible divisors\n",
    "\n",
    "#Test if Prime Function\n",
    "def NumIsPrime(n) :\n",
    "    if n%2 == 0 or n%3 == 0:\n",
    "        return False\n",
    "    for i in range(6,m.ceil(m.sqrt(n))+2,6):\n",
    "        if n%(i+1) == 0 or n%(i-1) == 0 :\n",
    "            return False\n",
    "    return True      "
   ]
  },
  {
   "cell_type": "code",
   "execution_count": 40,
   "id": "3d1251d3",
   "metadata": {},
   "outputs": [
    {
     "name": "stdout",
     "output_type": "stream",
     "text": [
      "547\n",
      "1001604\n"
     ]
    }
   ],
   "source": [
    "# Generate List of Consecutive Primes\n",
    "# Create empty list then append 2 and 3\n",
    "# Check if each 6n-1 and 6n+1 is prime and append\n",
    "# Stop when total of list is over one million\n",
    "\n",
    "primes = []\n",
    "primes.append(2)\n",
    "primes.append(3)\n",
    "runningsum = 5\n",
    "n=1\n",
    "\n",
    "while runningsum < 10**6 :\n",
    "    if NumIsPrime(6*n-1) :\n",
    "        primes.append(6*n-1)\n",
    "        runningsum += 6*n-1\n",
    "    if NumIsPrime(6*n+1) :\n",
    "        primes.append(6*n+1)\n",
    "        runningsum += 6*n+1\n",
    "    n += 1\n",
    "    \n",
    "# Code generates 547 consecutive primes that total just over a million\n",
    "print(len(primes))\n",
    "print(np.sum(primes))"
   ]
  },
  {
   "cell_type": "code",
   "execution_count": 42,
   "id": "3e280111",
   "metadata": {},
   "outputs": [
    {
     "name": "stdout",
     "output_type": "stream",
     "text": [
      "Prime: 997651  Series Length: 543\n"
     ]
    }
   ],
   "source": [
    "# Check if Sum of Consecutive Primes is Prime\n",
    "# Starting with the size of the list, check if sum is prime\n",
    "# Reduce sum length by one and check all possible sums of this length\n",
    "# i.e. drop first or last term\n",
    "# Continue reducing sum length until prime is found \n",
    "\n",
    "nump = len(primes)\n",
    "size = nump\n",
    "complete = 0\n",
    "\n",
    "while complete == 0  :\n",
    "    for shift in range(0,nump-size) :\n",
    "        testsum = np.sum(primes[shift:size+shift])\n",
    "        if (testsum-1)%6==0 or (testsum+1)%6==0 :\n",
    "            if NumIsPrime(testsum) :\n",
    "                print('Prime:',testsum,' Series Length:',size)\n",
    "                complete = 1\n",
    "    size -= 1"
   ]
  }
 ],
 "metadata": {
  "kernelspec": {
   "display_name": "Python 3",
   "language": "python",
   "name": "python3"
  },
  "language_info": {
   "codemirror_mode": {
    "name": "ipython",
    "version": 3
   },
   "file_extension": ".py",
   "mimetype": "text/x-python",
   "name": "python",
   "nbconvert_exporter": "python",
   "pygments_lexer": "ipython3",
   "version": "3.8.8"
  }
 },
 "nbformat": 4,
 "nbformat_minor": 5
}
